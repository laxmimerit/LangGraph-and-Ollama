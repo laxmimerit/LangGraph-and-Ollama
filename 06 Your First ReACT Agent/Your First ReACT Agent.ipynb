{
 "cells": [
  {
   "cell_type": "code",
   "execution_count": 1,
   "metadata": {},
   "outputs": [
    {
     "data": {
      "text/plain": [
       "AIMessage(content='How can I assist you today?', additional_kwargs={}, response_metadata={'model': 'llama3.2:3b', 'created_at': '2024-11-27T13:58:11.3518391Z', 'done': True, 'done_reason': 'stop', 'total_duration': 176807900, 'load_duration': 21172000, 'prompt_eval_count': 26, 'prompt_eval_duration': 28114000, 'eval_count': 8, 'eval_duration': 125811000, 'message': Message(role='assistant', content='', images=None, tool_calls=None)}, id='run-fbf2e9ed-4590-4aa8-a531-3ab9f4ecab04-0', usage_metadata={'input_tokens': 26, 'output_tokens': 8, 'total_tokens': 34})"
      ]
     },
     "execution_count": 1,
     "metadata": {},
     "output_type": "execute_result"
    }
   ],
   "source": [
    "from dotenv import load_dotenv\n",
    "import os\n",
    "\n",
    "load_dotenv('../.env')\n",
    "\n",
    "\n",
    "from typing import Annotated, TypedDict \n",
    "from langgraph.graph import  StateGraph, START, END\n",
    "\n",
    "from langgraph.graph.message import add_messages \n",
    "\n",
    "from langchain_ollama import ChatOllama\n",
    "from IPython.display import display, Image\n",
    "\n",
    "llm = ChatOllama(model=\"llama3.2:3b\", base_url = \"http://localhost:11434\")\n",
    "\n",
    "llm.invoke(\"Hi\")"
   ]
  },
  {
   "cell_type": "code",
   "execution_count": 2,
   "metadata": {},
   "outputs": [],
   "source": [
    "from datetime import datetime\n",
    "from langgraph.prebuilt import create_react_agent\n",
    "from langchain_core.tools import tool\n",
    "from langchain_community.tools.tavily_search import TavilySearchResults\n",
    "\n",
    "\n",
    "\n",
    "@tool\n",
    "def internet_search(query: str):\n",
    "    \"\"\"\n",
    "    Search the web for realtime and latest information.\n",
    "    for examples, news, stock market, weather updates etc.\n",
    "    \n",
    "    Args:\n",
    "    query: The search query\n",
    "    \"\"\"\n",
    "    search = TavilySearchResults(\n",
    "        max_results=3,\n",
    "        search_depth='advanced',\n",
    "        include_answer=True,\n",
    "        include_raw_content=True,\n",
    "    )\n",
    "\n",
    "    response = search.invoke(query)\n",
    "\n",
    "    return response\n",
    "\n",
    "@tool\n",
    "def llm_search(query: str):\n",
    "    \"\"\"\n",
    "    Use the LLM model for general and basic information.\n",
    "    \"\"\"\n",
    "    response = llm.invoke(query)\n",
    "    return response\n",
    "\n",
    "tools = [llm_search, internet_search]"
   ]
  },
  {
   "cell_type": "code",
   "execution_count": 3,
   "metadata": {},
   "outputs": [
    {
     "name": "stdout",
     "output_type": "stream",
     "text": [
      "The current President of the USA is Joe Biden, and his daughters are Ashley Biden and Naomi Biden.\n"
     ]
    }
   ],
   "source": [
    "from langgraph.prebuilt import create_react_agent\n",
    "\n",
    "system_message = \"\"\"\n",
    "                    You are a helpful chatbot. Who answers with facts only. \n",
    "                    Thought: Do I need to use a tool? Yes\n",
    "\n",
    "                    Action: the action to take, should be either tool or END\n",
    "\n",
    "                    Action Input: the input to the action\n",
    "\n",
    "                    Observation: the result of the action\n",
    "\n",
    "                    Always follow this pattern to get the best results.\n",
    "                    \"\"\"\n",
    "\n",
    "langgraph_agent_executor = create_react_agent(llm, tools, state_modifier=system_message)\n",
    "\n",
    "\n",
    "response = langgraph_agent_executor.invoke(\n",
    "        {\n",
    "            \"messages\": [\"Who is daughter of current President of the USA?\"],\n",
    "        })\n",
    "\n",
    "print(response[\"messages\"][-1].content)"
   ]
  },
  {
   "cell_type": "code",
   "execution_count": null,
   "metadata": {},
   "outputs": [],
   "source": []
  },
  {
   "cell_type": "code",
   "execution_count": null,
   "metadata": {},
   "outputs": [],
   "source": []
  },
  {
   "cell_type": "code",
   "execution_count": null,
   "metadata": {},
   "outputs": [],
   "source": []
  }
 ],
 "metadata": {
  "kernelspec": {
   "display_name": "ml",
   "language": "python",
   "name": "python3"
  },
  "language_info": {
   "codemirror_mode": {
    "name": "ipython",
    "version": 3
   },
   "file_extension": ".py",
   "mimetype": "text/x-python",
   "name": "python",
   "nbconvert_exporter": "python",
   "pygments_lexer": "ipython3",
   "version": "3.12.4"
  }
 },
 "nbformat": 4,
 "nbformat_minor": 2
}
