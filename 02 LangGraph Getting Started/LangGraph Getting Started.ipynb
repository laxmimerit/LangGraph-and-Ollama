{
 "cells": [
  {
   "cell_type": "code",
   "execution_count": 1,
   "metadata": {},
   "outputs": [
    {
     "data": {
      "text/plain": [
       "True"
      ]
     },
     "execution_count": 1,
     "metadata": {},
     "output_type": "execute_result"
    }
   ],
   "source": [
    "from dotenv import load_dotenv\n",
    "import os\n",
    "\n",
    "load_dotenv('../.env')"
   ]
  },
  {
   "cell_type": "code",
   "execution_count": 3,
   "metadata": {},
   "outputs": [],
   "source": [
    "from typing import Annotated\n",
    "\n",
    "from typing_extensions import TypedDict\n",
    "\n",
    "from langgraph.graph import StateGraph, START, END\n",
    "from langgraph.graph.message import add_messages\n",
    "\n",
    "from langchain_ollama import ChatOllama\n",
    "\n",
    "llm = ChatOllama(model=\"llama3.2:3b\", base_url=\"http://localhost:11434\")\n",
    "\n",
    "class State(TypedDict):\n",
    "    # Messages have the type \"list\". The `add_messages` function\n",
    "    # in the annotation defines how this state key should be updated\n",
    "    # (in this case, it appends messages to the list, rather than overwriting them)\n",
    "    messages: Annotated[list, add_messages]\n",
    "\n",
    "def chatbot(state: State):\n",
    "    return {\"messages\": [llm.invoke(state[\"messages\"])]}\n",
    "\n",
    "\n",
    "# The first argument is the unique node name\n",
    "# The second argument is the function or object that will be called whenever\n",
    "# the node is used.\n",
    "graph_builder = StateGraph(State)\n",
    "graph_builder.add_node(\"chatbot\", chatbot)\n",
    "\n",
    "\n",
    "graph_builder.add_edge(START, \"chatbot\")\n",
    "\n",
    "graph_builder.add_edge(\"chatbot\", END)\n",
    "\n",
    "graph = graph_builder.compile()\n",
    "\n"
   ]
  },
  {
   "cell_type": "code",
   "execution_count": 5,
   "metadata": {},
   "outputs": [
    {
     "data": {
      "image/jpeg": "[encoded data removed]",
      "text/plain": [
       "<IPython.core.display.Image object>"
      ]
     },
     "metadata": {},
     "output_type": "display_data"
    }
   ],
   "source": [
    "from IPython.display import Image, display\n",
    "\n",
    "try:\n",
    "    display(Image(graph.get_graph().draw_mermaid_png()))\n",
    "except Exception as e:\n",
    "    print(e)"
   ]
  },
  {
   "cell_type": "code",
   "execution_count": 8,
   "metadata": {},
   "outputs": [
    {
     "name": "stdout",
     "output_type": "stream",
     "text": [
      "{'messages': [HumanMessage(content='hi', additional_kwargs={}, response_metadata={}, id='f9eec3be-39a4-437c-bcfd-79aa988882bb'), AIMessage(content='How can I assist you today?', additional_kwargs={}, response_metadata={'model': 'llama3.2:3b', 'created_at': '2024-11-18T09:44:56.5481648Z', 'message': {'role': 'assistant', 'content': ''}, 'done_reason': 'stop', 'done': True, 'total_duration': 339661600, 'load_duration': 19309000, 'prompt_eval_count': 26, 'prompt_eval_duration': 206619000, 'eval_count': 8, 'eval_duration': 111859000}, id='run-77b1e80a-36b9-404e-9630-1c904ff04619-0', usage_metadata={'input_tokens': 26, 'output_tokens': 8, 'total_tokens': 34})]}\n",
      "Goodbye!\n"
     ]
    }
   ],
   "source": [
    "def stream_graph_updates(user_input: str):\n",
    "    for event in graph.stream({\"messages\": [(\"user\", user_input)]}):\n",
    "        for value in event.values():\n",
    "            print(\"Assistant:\", value[\"messages\"][-1].content)\n",
    "\n",
    "\n",
    "def run_graph(user_input:str):\n",
    "    output = graph.invoke({\"messages\": [(\"user\", user_input)]})\n",
    "    print(output)\n",
    "\n",
    "while True:\n",
    "    try:\n",
    "        user_input = input(\"User: \")\n",
    "        if user_input.lower() in [\"quit\", \"exit\", \"q\"]:\n",
    "            print(\"Goodbye!\")\n",
    "            break\n",
    "\n",
    "        # stream_graph_updates(user_input)\n",
    "        run_graph(user_input)\n",
    "    except:\n",
    "        # fallback if input() is not available\n",
    "        user_input = \"What do you know about LangGraph?\"\n",
    "        print(\"User: \" + user_input)\n",
    "        stream_graph_updates(user_input)\n",
    "        break"
   ]
  },
  {
   "cell_type": "markdown",
   "metadata": {},
   "source": [
    "### Part 2: Enhancing the Chatbot with Tools"
   ]
  },
  {
   "cell_type": "code",
   "execution_count": 9,
   "metadata": {},
   "outputs": [
    {
     "data": {
      "text/plain": [
       "[{'url': 'https://www.datacamp.com/tutorial/langgraph-tutorial',\n",
       "  'content': \"In LangGraph, each node represents an LLM agent, and the edges are the communication channels between these agents. This structure allows for clear and manageable workflows, where each agent performs specific tasks and passes information to other agents as needed. State management. One of LangGraph's standout features is its automatic state\"},\n",
       " {'url': 'https://medium.com/@kbdhunga/beginners-guide-to-langgraph-understanding-state-nodes-and-edges-part-1-897e6114fa48',\n",
       "  'content': 'Each node in a LangGraph graph has the ability to access, read, and write to the state. When a node modifies the state, it effectively broadcasts this information to all other nodes within the graph .'}]"
      ]
     },
     "execution_count": 9,
     "metadata": {},
     "output_type": "execute_result"
    }
   ],
   "source": [
    "from langchain_community.tools.tavily_search import TavilySearchResults\n",
    "\n",
    "tool = TavilySearchResults(max_results=2)\n",
    "tools = [tool]\n",
    "tool.invoke(\"What's a 'node' in LangGraph?\")"
   ]
  },
  {
   "cell_type": "code",
   "execution_count": 17,
   "metadata": {},
   "outputs": [
    {
     "data": {
      "image/jpeg": "[encoded data removed]",
      "text/plain": [
       "<IPython.core.display.Image object>"
      ]
     },
     "metadata": {},
     "output_type": "display_data"
    }
   ],
   "source": [
    "from typing import Annotated\n",
    "\n",
    "from langchain_community.tools.tavily_search import TavilySearchResults\n",
    "from langchain_core.messages import BaseMessage\n",
    "from typing_extensions import TypedDict\n",
    "\n",
    "from langgraph.graph import StateGraph\n",
    "from langgraph.graph.message import add_messages\n",
    "from langgraph.prebuilt import ToolNode, tools_condition\n",
    "\n",
    "\n",
    "class State(TypedDict):\n",
    "    messages: Annotated[list, add_messages]\n",
    "\n",
    "\n",
    "graph_builder = StateGraph(State)\n",
    "\n",
    "\n",
    "tool = TavilySearchResults(max_results=2)\n",
    "tools = [tool]\n",
    "\n",
    "llm = ChatOllama(model=\"llama3.2:3b\", base_url=\"http://localhost:11434\")\n",
    "llm_with_tools = llm.bind_tools(tools)\n",
    "\n",
    "\n",
    "def chatbot(state: State):\n",
    "    return {\"messages\": [llm_with_tools.invoke(state[\"messages\"])]}\n",
    "\n",
    "\n",
    "graph_builder.add_node(\"chatbot\", chatbot)\n",
    "\n",
    "tool_node = ToolNode(tools=[tool])\n",
    "graph_builder.add_node(\"tools\", tool_node)\n",
    "\n",
    "graph_builder.add_conditional_edges(\n",
    "    \"chatbot\",\n",
    "    tools_condition,\n",
    ")\n",
    "# Any time a tool is called, we return to the chatbot to decide the next step\n",
    "graph_builder.add_edge(\"tools\", \"chatbot\")\n",
    "graph_builder.set_entry_point(\"chatbot\")\n",
    "graph = graph_builder.compile()\n",
    "\n",
    "\n",
    "display(Image(graph.get_graph().draw_mermaid_png()))\n"
   ]
  },
  {
   "cell_type": "code",
   "execution_count": 18,
   "metadata": {},
   "outputs": [
    {
     "name": "stdout",
     "output_type": "stream",
     "text": [
      "{'messages': [HumanMessage(content=\"what is mumbai's temperature today?\", additional_kwargs={}, response_metadata={}, id='22c512a7-b9f9-47ad-9928-d1769e22df9a'), AIMessage(content='', additional_kwargs={}, response_metadata={'model': 'llama3.2:3b', 'created_at': '2024-11-18T12:11:08.9624028Z', 'message': {'role': 'assistant', 'content': '', 'tool_calls': [{'function': {'name': 'tavily_search_results_json', 'arguments': {'query': 'Mumbai temperature today'}}}]}, 'done_reason': 'stop', 'done': True, 'total_duration': 2040171900, 'load_duration': 1621952600, 'prompt_eval_count': 194, 'prompt_eval_duration': 101026000, 'eval_count': 24, 'eval_duration': 314829000}, id='run-3dfcbf7e-625f-4e14-bf47-f9cd99e7eae3-0', tool_calls=[{'name': 'tavily_search_results_json', 'args': {'query': 'Mumbai temperature today'}, 'id': 'b53b6dbe-85d3-40a2-bd2b-4625213fc348', 'type': 'tool_call'}], usage_metadata={'input_tokens': 194, 'output_tokens': 24, 'total_tokens': 218}), ToolMessage(content='[{\"url\": \"https://www.timeanddate.com/weather/india/mumbai/ext\", \"content\": \"Mumbai 14 Day Extended Forecast. Weather Today Weather Hourly 14 Day Forecast Yesterday/Past Weather Climate (Averages) Currently: 87 °F. Haze. (Weather station: Bombay / Colaba, India). See more current weather.\"}, {\"url\": \"https://www.freepressjournal.in/mumbai/mumbai-weather-update-cooler-temperatures-hit-the-city-check-out-aqi-more\", \"content\": \"Today\\'s weather prediction includes a high temperature of 35 degrees Celsius and a low of 21 degrees Celsius. Humidity in the city is currently at 53%, which is lower than it has been in the past\"}]', name='tavily_search_results_json', id='edecc8c5-a0bd-4639-8804-e8763e1f3d42', tool_call_id='b53b6dbe-85d3-40a2-bd2b-4625213fc348', artifact={'query': 'Mumbai temperature today', 'follow_up_questions': None, 'answer': None, 'images': [], 'results': [{'title': 'Mumbai, Maharashtra, India 14 day weather forecast - timeanddate.com', 'url': 'https://www.timeanddate.com/weather/india/mumbai/ext', 'content': 'Mumbai 14 Day Extended Forecast. Weather Today Weather Hourly 14 Day Forecast Yesterday/Past Weather Climate (Averages) Currently: 87 °F. Haze. (Weather station: Bombay / Colaba, India). See more current weather.', 'score': 0.9961903, 'raw_content': None}, {'title': 'Mumbai Weather Update: Cooler Temperatures Hit The City; Check Out AQI ...', 'url': 'https://www.freepressjournal.in/mumbai/mumbai-weather-update-cooler-temperatures-hit-the-city-check-out-aqi-more', 'content': \"Today's weather prediction includes a high temperature of 35 degrees Celsius and a low of 21 degrees Celsius. Humidity in the city is currently at 53%, which is lower than it has been in the past\", 'score': 0.94639885, 'raw_content': None}], 'response_time': 2.24}), AIMessage(content='The current temperature in Mumbai is 87 °F (Haze), with a humidity level of 53%. The forecast predicts high temperatures of 35°C and low temperatures of 21°C. Please note that these temperatures are based on the latest available data at the time of my knowledge cutoff, which may not reflect real-time or future changes in temperature.', additional_kwargs={}, response_metadata={'model': 'llama3.2:3b', 'created_at': '2024-11-18T12:11:13.2945851Z', 'message': {'role': 'assistant', 'content': 'The current temperature in Mumbai is 87 °F (Haze), with a humidity level of 53%. The forecast predicts high temperatures of 35°C and low temperatures of 21°C. Please note that these temperatures are based on the latest available data at the time of my knowledge cutoff, which may not reflect real-time or future changes in temperature.'}, 'done_reason': 'stop', 'done': True, 'total_duration': 1144343600, 'load_duration': 42187000, 'prompt_eval_count': 258, 'prompt_eval_duration': 120562000, 'eval_count': 72, 'eval_duration': 974413000}, id='run-e96b983e-be1f-4931-aeb7-6b6e07afdca8-0', usage_metadata={'input_tokens': 258, 'output_tokens': 72, 'total_tokens': 330})]}\n",
      "{'messages': [HumanMessage(content='what is latest news of today in India? top 10 news?', additional_kwargs={}, response_metadata={}, id='70d04ed8-2bf1-424d-8ec2-596bf6c8e38f'), AIMessage(content='', additional_kwargs={}, response_metadata={'model': 'llama3.2:3b', 'created_at': '2024-11-18T12:11:56.9697718Z', 'message': {'role': 'assistant', 'content': '', 'tool_calls': [{'function': {'name': 'tavily_search_results_json', 'arguments': {'query': 'latest news in India today + top 10 news in India'}}}]}, 'done_reason': 'stop', 'done': True, 'total_duration': 792530600, 'load_duration': 18829000, 'prompt_eval_count': 200, 'prompt_eval_duration': 340921000, 'eval_count': 32, 'eval_duration': 430677000}, id='run-64597908-4154-4488-8320-888a87285f07-0', tool_calls=[{'name': 'tavily_search_results_json', 'args': {'query': 'latest news in India today + top 10 news in India'}, 'id': '07324a19-1828-446e-bc36-e95ba506527c', 'type': 'tool_call'}], usage_metadata={'input_tokens': 200, 'output_tokens': 32, 'total_tokens': 232}), ToolMessage(content='[{\"url\": \"https://timesofindia.indiatimes.com/india\", \"content\": \"India News Today: Get latest India news and breaking news from India on Times of India. TOI brings the top news headlines from India on Politics, Elections, Current Affairs and more\"}, {\"url\": \"https://www.ndtv.com/india\", \"content\": \"Before Poll Panel, Sharad Pawar Camp Questions Premise Of Dispute In NCP\\\\nThe Sharad Pawar faction on Friday questioned before the Election Commission the very premise of the dispute in the NCP, claiming those who were part of conducting polls in the party in 2018 cannot now claim that the elections were flawed.\\\\n India News\\\\n\\\\\"4% Muslim Reservation Based On...\\\\\": Telangana Minister KT Rama Rao\\\\nTelangana Minister and Bharat Rashtra Samithi (BRS) MLA KT Rama Rao has said the 4 per cent Muslim reservation in the state is not on the basis of religion but on the basis of socio-economic status in the community.\\\\n RBI Supercedes Board Of Abhyudaya Cooperative Bank For One Year Over Poor Governance\\\\nSatya Prakash Pathak, former Chief General Manager of State Bank of India, is the \\'Administrator\\' to manage the affairs of the Mumbai-based bank during the one-year period, the Reserve Bank of India (RBI) said.\\\\n Refer To Verdict On Assent to Bills: Supreme Court To Kerala Governor\\'s Office\\\\nThe Supreme Court on Friday asked the additional chief secretary of Kerala Governor Arif Mohammed Khan to refer to its recent verdict in Punjab\\'s case where it was held governors cannot \\\\\"thwart the normal course of lawmaking\\\\\".\\\\n India-European Union Sign Pact On Semiconductors Ahead Of Key Trade Meet\\\\nAn India-EU Memorandum of Understanding (MoU) on semiconductors was signed on Friday, ahead of the Trade and Technology Council meeting in New Delhi, according to the Ministry of External Affairs press release.\\\\n\"}]', name='tavily_search_results_json', id='dbbc4013-0272-46f2-9a7f-ec39ac39f106', tool_call_id='07324a19-1828-446e-bc36-e95ba506527c', artifact={'query': 'latest news in India today + top 10 news in India', 'follow_up_questions': None, 'answer': None, 'images': [], 'results': [{'title': 'India News | Latest India News Headlines Today and Live Updates from ...', 'url': 'https://timesofindia.indiatimes.com/india', 'content': 'India News Today: Get latest India news and breaking news from India on Times of India. TOI brings the top news headlines from India on Politics, Elections, Current Affairs and more', 'score': 0.99268264, 'raw_content': None}, {'title': \"India News | Today's latest updates and breaking news from India, Live ...\", 'url': 'https://www.ndtv.com/india', 'content': 'Before Poll Panel, Sharad Pawar Camp Questions Premise Of Dispute In NCP\\nThe Sharad Pawar faction on Friday questioned before the Election Commission the very premise of the dispute in the NCP, claiming those who were part of conducting polls in the party in 2018 cannot now claim that the elections were flawed.\\n India News\\n\"4% Muslim Reservation Based On...\": Telangana Minister KT Rama Rao\\nTelangana Minister and Bharat Rashtra Samithi (BRS) MLA KT Rama Rao has said the 4 per cent Muslim reservation in the state is not on the basis of religion but on the basis of socio-economic status in the community.\\n RBI Supercedes Board Of Abhyudaya Cooperative Bank For One Year Over Poor Governance\\nSatya Prakash Pathak, former Chief General Manager of State Bank of India, is the \\'Administrator\\' to manage the affairs of the Mumbai-based bank during the one-year period, the Reserve Bank of India (RBI) said.\\n Refer To Verdict On Assent to Bills: Supreme Court To Kerala Governor\\'s Office\\nThe Supreme Court on Friday asked the additional chief secretary of Kerala Governor Arif Mohammed Khan to refer to its recent verdict in Punjab\\'s case where it was held governors cannot \"thwart the normal course of lawmaking\".\\n India-European Union Sign Pact On Semiconductors Ahead Of Key Trade Meet\\nAn India-EU Memorandum of Understanding (MoU) on semiconductors was signed on Friday, ahead of the Trade and Technology Council meeting in New Delhi, according to the Ministry of External Affairs press release.\\n', 'score': 0.968441, 'raw_content': None}], 'response_time': 2.87}), AIMessage(content='Here are the top 10 news stories from India today:\\n\\n1. **NCP Polls Dispute**: Sharad Pawar\\'s faction questions the premise of the dispute in the NCP polls, claiming those who conducted the polls in 2018 cannot claim that the elections were flawed.\\n2. **Muslim Reservation in Telangana**: Telangana Minister KT Rama Rao clarifies that the 4% Muslim reservation in the state is not based on religion but on socio-economic status.\\n3. **RBI Takes Over Abhyudaya Cooperative Bank**: The Reserve Bank of India (RBI) has taken over the management of Abhyudaya Cooperative Bank for one year due to poor governance.\\n4. **Kerala Governor\\'s Office Refers to Supreme Court Verdict**: The Kerala Governor\\'s office has been asked to refer to the recent verdict in Punjab\\'s case, where it was held that governors cannot \"thwart the normal course of lawmaking\".\\n5. **India-EU Sign Pact on Semiconductors**: An India-EU Memorandum of Understanding (MoU) on semiconductors was signed ahead of the Trade and Technology Council meeting in New Delhi.\\n6. **Assent to Bills Referenced in Supreme Court Verdict**: The Supreme Court has asked the Kerala Governor\\'s office to refer to its recent verdict in Punjab\\'s case, where it was held that governors cannot \"thwart the normal course of lawmaking\".\\n7. **Election Commission Seeks Clarification on NCP Polls Dispute**: The Election Commission is seeking clarification on the dispute in the NCP polls.\\n8. **Telangana Minister Clarifies on Muslim Reservation**: Telangana Minister KT Rama Rao has clarified that the 4% Muslim reservation in the state is not based on religion but on socio-economic status.\\n9. **RBI Takes Over Cooperative Bank Due to Poor Governance**: The Reserve Bank of India (RBI) has taken over the management of Abhyudaya Cooperative Bank due to poor governance.\\n10. **Kerala Governor\\'s Office Asks for Clarification on Supreme Court Verdict**: The Kerala Governor\\'s office has asked for clarification on the recent verdict in Punjab\\'s case, where it was held that governors cannot \"thwart the normal course of lawmaking\".', additional_kwargs={}, response_metadata={'model': 'llama3.2:3b', 'created_at': '2024-11-18T12:12:07.9580838Z', 'message': {'role': 'assistant', 'content': 'Here are the top 10 news stories from India today:\\n\\n1. **NCP Polls Dispute**: Sharad Pawar\\'s faction questions the premise of the dispute in the NCP polls, claiming those who conducted the polls in 2018 cannot claim that the elections were flawed.\\n2. **Muslim Reservation in Telangana**: Telangana Minister KT Rama Rao clarifies that the 4% Muslim reservation in the state is not based on religion but on socio-economic status.\\n3. **RBI Takes Over Abhyudaya Cooperative Bank**: The Reserve Bank of India (RBI) has taken over the management of Abhyudaya Cooperative Bank for one year due to poor governance.\\n4. **Kerala Governor\\'s Office Refers to Supreme Court Verdict**: The Kerala Governor\\'s office has been asked to refer to the recent verdict in Punjab\\'s case, where it was held that governors cannot \"thwart the normal course of lawmaking\".\\n5. **India-EU Sign Pact on Semiconductors**: An India-EU Memorandum of Understanding (MoU) on semiconductors was signed ahead of the Trade and Technology Council meeting in New Delhi.\\n6. **Assent to Bills Referenced in Supreme Court Verdict**: The Supreme Court has asked the Kerala Governor\\'s office to refer to its recent verdict in Punjab\\'s case, where it was held that governors cannot \"thwart the normal course of lawmaking\".\\n7. **Election Commission Seeks Clarification on NCP Polls Dispute**: The Election Commission is seeking clarification on the dispute in the NCP polls.\\n8. **Telangana Minister Clarifies on Muslim Reservation**: Telangana Minister KT Rama Rao has clarified that the 4% Muslim reservation in the state is not based on religion but on socio-economic status.\\n9. **RBI Takes Over Cooperative Bank Due to Poor Governance**: The Reserve Bank of India (RBI) has taken over the management of Abhyudaya Cooperative Bank due to poor governance.\\n10. **Kerala Governor\\'s Office Asks for Clarification on Supreme Court Verdict**: The Kerala Governor\\'s office has asked for clarification on the recent verdict in Punjab\\'s case, where it was held that governors cannot \"thwart the normal course of lawmaking\".'}, 'done_reason': 'stop', 'done': True, 'total_duration': 7199614600, 'load_duration': 32167000, 'prompt_eval_count': 525, 'prompt_eval_duration': 435637000, 'eval_count': 464, 'eval_duration': 6723195000}, id='run-6a811226-825a-46f3-bcbc-1d703159773b-0', usage_metadata={'input_tokens': 525, 'output_tokens': 464, 'total_tokens': 989})]}\n",
      "{'messages': [HumanMessage(content='top 10 latest news?', additional_kwargs={}, response_metadata={}, id='f75ec9d2-49b7-4983-b8fb-b5eea6fdc77b'), AIMessage(content='', additional_kwargs={}, response_metadata={'model': 'llama3.2:3b', 'created_at': '2024-11-18T12:15:21.8272174Z', 'message': {'role': 'assistant', 'content': '', 'tool_calls': [{'function': {'name': 'tavily_search_results_json', 'arguments': {'query': 'latest news'}}}]}, 'done_reason': 'stop', 'done': True, 'total_duration': 633398800, 'load_duration': 17834700, 'prompt_eval_count': 192, 'prompt_eval_duration': 306381000, 'eval_count': 22, 'eval_duration': 307829000}, id='run-8ede6890-15ae-41e7-8a8b-cb54e5e3d076-0', tool_calls=[{'name': 'tavily_search_results_json', 'args': {'query': 'latest news'}, 'id': '77eb85c2-f417-41e9-be32-ef1b3695c3f0', 'type': 'tool_call'}], usage_metadata={'input_tokens': 192, 'output_tokens': 22, 'total_tokens': 214}), ToolMessage(content='[{\"url\": \"https://www.cnn.com/\", \"content\": \"View the latest news and breaking news today for U.S., world, weather, entertainment, politics and health at CNN.com.\"}, {\"url\": \"https://apnews.com/\", \"content\": \"In a political shift to the far right, anti-Islam populist Geert Wilders wins big in Dutch election\\\\nEurope’s far-right populists buoyed by Wilders’ win in Netherlands, hoping the best is yet to come\\\\nDaniel Noboa is sworn in as Ecuador’s president, inheriting the leadership of a country on edge\\\\nOn the cusp of climate talks, UN chief Guterres visits crucial Antarctica\\\\nBUSINESS\\\\nOpenAI brings back Sam Altman as CEO just days after his firing unleashed chaos\\\\nThis week’s turmoil with ChatGPT-maker OpenAI has heightened trust concerns in the AI world\\\\nTo save the climate, the oil and gas sector must slash planet-warming operations, report says\\\\nArgentina’s labor leaders warn of resistance to President-elect Milei’s radical reforms\\\\nSCIENCE\\\\nPeru lost more than half of its glacier surface in just over half a century, scientists say\\\\nSearch is on for pipeline leak after as much as 1.1 million gallons of oil sullies Gulf of Mexico\\\\nNew hardiness zone map will help US gardeners keep pace with climate change\\\\nSpaceX launched its giant new rocket but explosions end the second test flight\\\\nLIFESTYLE\\\\nEdmunds picks the five best cars for under $30,000\\\\nFrance remains ‘le grand fromage’ in the European Union, and Camembert remains in a wooden box\\\\nHow to avoid the worst 4 hours of holiday travel\\\\nGet ahead this Thanksgiving by setting the table a day or two early\\\\nNow Playing\\\\nMovie Review: Emerald Fennell chronicles a promising young man in audacious, shock-filled ‘Saltburn’\\\\nMovie Review: Disney’s musical fairy tale ‘Wish’ is beautiful, but lacking magic\\\\nMovie Review: ‘Fallen Leaves’ is deadpan nirvana\\\\nReview: In Ridley Scott’s ‘Napoleon,’ the emperor has no clothes but plenty of ego\\\\nMovie Review: Emotional complexity, melodramatic wit and masterful acting in ‘May December’\\\\nMovie Review: Taika Waititi’s ‘Next Goal Wins’ is a sweet, frothy diversion but no knee slide\\\\nReview: The Hunger Games return in ‘The Ballad of Songbirds and Snakes,’ with the odds in its favor\\\\nMovie Review: Nicolas Cage finds fame to be highly overrated in chillingly funny ‘Dream Scenario’\\\\nMovie Review: Iman Vellani is a scene-stealer in low-stakes ‘The Marvels’\\\\nMovie Review: In David Fincher’s ‘The Killer,’ an assassin hides in plain sight\\\\nThe Protein Problem\\\\nHow ‘lab-grown’ meat cultivated from animal cells could offer another sustainable food option\\\\nPlant-based products haven’t converted US meat-eaters. The US has thwarted a plot to kill a Sikh separatist leader, an AP source says\\\\nNearly half of Americans think the US is spending too much on Ukraine aid, an AP-NORC poll says\\\\nBiden’s plan would raise salaries for Head Start teachers but could leave fewer spots for kids\\\\nEntertainment\\\\nThe ‘Oppenheimer’ creative team take you behind the scenes of the film’s key moments\\\\nWhat’s streaming now: ‘Oppenheimer,’ Adam Sandler as a lizard and celebs dancing to Taylor Swift\\\\nFill your holiday stocking with Cher, Ella Fitzgerald, Brandy, Andrea Bocelli and more\\\\nStudent Academy Awards — a launching pad into Hollywood — celebrate 50 years\\\\nSPORTS\\\\nBland, Prescott help Cowboys to 13th straight home win over Commanders on Thanksgiving\\\\nBlackhawks’ Taylor Hall is expected to miss the rest of the season with a right knee injury\\\\nLSU star Angel Reese has not been seen with the Tigers in the Cayman Islands\\\\nEddie Merrins, the ‘Little Pro’ who had an enormous influence on golf in LA, dies at 91\\\\nUS News\\\\nResidents of Kentucky town can return home after crews extinguish derailment fire\\\\nOfficials begin clearing debris while 3 remain missing in Alaska landslide that left 3 dead\\\\nOxyContin maker’s settlement plan divides victims of opioid crisis. When the battles stop, many fear it will remain uninhabitable\\\\nHundreds of German police raid properties of Hamas supporters in Berlin and across the country\\\\nHow the hostage deal came about: Negotiations stumbled, but persistence finally won out\\\\nPortraits of those held hostage after Hamas attack on Israel\\\\nDutch election winner Geert Wilders is an anti-Islam firebrand known as the Dutch Donald Trump\\\\nWoman alleges Jamie Foxx sexually assaulted her at New York bar, actor says it ‘never happened’\\\\nFBI ends investigation of car wreck at Niagara Falls bridge, no indication of terrorism\\\\nRetailers are ready to kick off Black Friday just as shoppers pull back on spending\\\\nMacy’s Thanksgiving Day Parade sends Snoopy and SpongeBob soaring as Cher entertains NYC\\\\nViolent clashes break out in Dublin after knife attack that injured 3 children, one seriously\\\\nNicaragua’s Miss Universe title win exposes deep political divide in the Central American country\\\\nSusan Sarandon and Melissa Barrera dropped from Hollywood companies after comments on Israel-Hamas war\\\\nSeveral more children sickened by fruit pouches tainted with lead, FDA says\\\\nLatest videos\\\\nPhiladelphia marks Thanksgiving with parade\\\\nPhiladelphia held its annual Thanksgiving Day parade on Thursday. Florida Atlantic defeats Butler 91-86\\\\nBroncos nickel back Ja’Quan McMillian is making a name for himself even if it’s being mispronounced\\\\nSt. Rose scores 26, Princeton rolls to a 77-63 win over No. 22 Oklahoma women in Florida\\\\nFormer St. Louis alderman in fraud case also charged with lying to police\\\\nBrazilian police bust international drug mule ring in Sao Paulo\\\\nNorris scores 20, Loyola Chicago closes on 14-2 run to beat Boston College 71-68\\\\nBusiness Highlights: Retailers prepare for Black Friday; world stocks mixed\\\\nNew Mexico Supreme Court reprimands judge who advised prosecutors in case involving his daughter\\\\nNo. 3 Colorado holds off Cincinnati 77-60 to open Paradise Jam tournament\\\\nThursday’s Transactions\\\\nIsaacs banks in go-ahead shot with 0.8 seconds left and Texas Tech beats UNI in Battle 4 Atlantis\\\\nColeman has 24 points, No. 12 Texas A&M beats Penn State 89-77 in ESPN Events Invitational\\\\nWest Africa responds to huge diphtheria outbreaks by targeting unvaccinated populations\\\\n This rancher thinks she can change that\\\\nWhat pastoralists in Senegal and Mongolia can teach us about adapting to a changing environment\\\\nSaving Brazil’s rainforest starts with helping people and businesses make a living off cleared land\\\\nMore from the project\\\\nGardening\\\\nA dozen fresh-picked holiday gift ideas for gardeners\\\\nIf it seems like there are a lot of acorns this fall, you might be seeing a ‘mast’ year\\\\nA slow transition to winter keeps houseplants healthy\\\\nThere’s a movement to ‘leave the leaves’ in gardens and lawns.\"}]', name='tavily_search_results_json', id='459031a8-2387-4f89-8b43-549046d6d9d7', tool_call_id='77eb85c2-f417-41e9-be32-ef1b3695c3f0', artifact={'query': 'latest news', 'follow_up_questions': None, 'answer': None, 'images': [], 'results': [{'title': 'Breaking News, Latest News and Videos | CNN', 'url': 'https://www.cnn.com/', 'content': 'View the latest news and breaking news today for U.S., world, weather, entertainment, politics and health at CNN.com.', 'score': 0.7433543, 'raw_content': None}, {'title': 'Associated Press News: Breaking News, Latest Headlines and Videos | AP News', 'url': 'https://apnews.com/', 'content': 'In a political shift to the far right, anti-Islam populist Geert Wilders wins big in Dutch election\\nEurope’s far-right populists buoyed by Wilders’ win in Netherlands, hoping the best is yet to come\\nDaniel Noboa is sworn in as Ecuador’s president, inheriting the leadership of a country on edge\\nOn the cusp of climate talks, UN chief Guterres visits crucial Antarctica\\nBUSINESS\\nOpenAI brings back Sam Altman as CEO just days after his firing unleashed chaos\\nThis week’s turmoil with ChatGPT-maker OpenAI has heightened trust concerns in the AI world\\nTo save the climate, the oil and gas sector must slash planet-warming operations, report says\\nArgentina’s labor leaders warn of resistance to President-elect Milei’s radical reforms\\nSCIENCE\\nPeru lost more than half of its glacier surface in just over half a century, scientists say\\nSearch is on for pipeline leak after as much as 1.1 million gallons of oil sullies Gulf of Mexico\\nNew hardiness zone map will help US gardeners keep pace with climate change\\nSpaceX launched its giant new rocket but explosions end the second test flight\\nLIFESTYLE\\nEdmunds picks the five best cars for under $30,000\\nFrance remains ‘le grand fromage’ in the European Union, and Camembert remains in a wooden box\\nHow to avoid the worst 4 hours of holiday travel\\nGet ahead this Thanksgiving by setting the table a day or two early\\nNow Playing\\nMovie Review: Emerald Fennell chronicles a promising young man in audacious, shock-filled ‘Saltburn’\\nMovie Review: Disney’s musical fairy tale ‘Wish’ is beautiful, but lacking magic\\nMovie Review: ‘Fallen Leaves’ is deadpan nirvana\\nReview: In Ridley Scott’s ‘Napoleon,’ the emperor has no clothes but plenty of ego\\nMovie Review: Emotional complexity, melodramatic wit and masterful acting in ‘May December’\\nMovie Review: Taika Waititi’s ‘Next Goal Wins’ is a sweet, frothy diversion but no knee slide\\nReview: The Hunger Games return in ‘The Ballad of Songbirds and Snakes,’ with the odds in its favor\\nMovie Review: Nicolas Cage finds fame to be highly overrated in chillingly funny ‘Dream Scenario’\\nMovie Review: Iman Vellani is a scene-stealer in low-stakes ‘The Marvels’\\nMovie Review: In David Fincher’s ‘The Killer,’ an assassin hides in plain sight\\nThe Protein Problem\\nHow ‘lab-grown’ meat cultivated from animal cells could offer another sustainable food option\\nPlant-based products haven’t converted US meat-eaters. The US has thwarted a plot to kill a Sikh separatist leader, an AP source says\\nNearly half of Americans think the US is spending too much on Ukraine aid, an AP-NORC poll says\\nBiden’s plan would raise salaries for Head Start teachers but could leave fewer spots for kids\\nEntertainment\\nThe ‘Oppenheimer’ creative team take you behind the scenes of the film’s key moments\\nWhat’s streaming now: ‘Oppenheimer,’ Adam Sandler as a lizard and celebs dancing to Taylor Swift\\nFill your holiday stocking with Cher, Ella Fitzgerald, Brandy, Andrea Bocelli and more\\nStudent Academy Awards — a launching pad into Hollywood — celebrate 50 years\\nSPORTS\\nBland, Prescott help Cowboys to 13th straight home win over Commanders on Thanksgiving\\nBlackhawks’ Taylor Hall is expected to miss the rest of the season with a right knee injury\\nLSU star Angel Reese has not been seen with the Tigers in the Cayman Islands\\nEddie Merrins, the ‘Little Pro’ who had an enormous influence on golf in LA, dies at 91\\nUS News\\nResidents of Kentucky town can return home after crews extinguish derailment fire\\nOfficials begin clearing debris while 3 remain missing in Alaska landslide that left 3 dead\\nOxyContin maker’s settlement plan divides victims of opioid crisis. When the battles stop, many fear it will remain uninhabitable\\nHundreds of German police raid properties of Hamas supporters in Berlin and across the country\\nHow the hostage deal came about: Negotiations stumbled, but persistence finally won out\\nPortraits of those held hostage after Hamas attack on Israel\\nDutch election winner Geert Wilders is an anti-Islam firebrand known as the Dutch Donald Trump\\nWoman alleges Jamie Foxx sexually assaulted her at New York bar, actor says it ‘never happened’\\nFBI ends investigation of car wreck at Niagara Falls bridge, no indication of terrorism\\nRetailers are ready to kick off Black Friday just as shoppers pull back on spending\\nMacy’s Thanksgiving Day Parade sends Snoopy and SpongeBob soaring as Cher entertains NYC\\nViolent clashes break out in Dublin after knife attack that injured 3 children, one seriously\\nNicaragua’s Miss Universe title win exposes deep political divide in the Central American country\\nSusan Sarandon and Melissa Barrera dropped from Hollywood companies after comments on Israel-Hamas war\\nSeveral more children sickened by fruit pouches tainted with lead, FDA says\\nLatest videos\\nPhiladelphia marks Thanksgiving with parade\\nPhiladelphia held its annual Thanksgiving Day parade on Thursday. Florida Atlantic defeats Butler 91-86\\nBroncos nickel back Ja’Quan McMillian is making a name for himself even if it’s being mispronounced\\nSt. Rose scores 26, Princeton rolls to a 77-63 win over No. 22 Oklahoma women in Florida\\nFormer St. Louis alderman in fraud case also charged with lying to police\\nBrazilian police bust international drug mule ring in Sao Paulo\\nNorris scores 20, Loyola Chicago closes on 14-2 run to beat Boston College 71-68\\nBusiness Highlights: Retailers prepare for Black Friday; world stocks mixed\\nNew Mexico Supreme Court reprimands judge who advised prosecutors in case involving his daughter\\nNo. 3 Colorado holds off Cincinnati 77-60 to open Paradise Jam tournament\\nThursday’s Transactions\\nIsaacs banks in go-ahead shot with 0.8 seconds left and Texas Tech beats UNI in Battle 4 Atlantis\\nColeman has 24 points, No. 12 Texas A&M beats Penn State 89-77 in ESPN Events Invitational\\nWest Africa responds to huge diphtheria outbreaks by targeting unvaccinated populations\\n This rancher thinks she can change that\\nWhat pastoralists in Senegal and Mongolia can teach us about adapting to a changing environment\\nSaving Brazil’s rainforest starts with helping people and businesses make a living off cleared land\\nMore from the project\\nGardening\\nA dozen fresh-picked holiday gift ideas for gardeners\\nIf it seems like there are a lot of acorns this fall, you might be seeing a ‘mast’ year\\nA slow transition to winter keeps houseplants healthy\\nThere’s a movement to ‘leave the leaves’ in gardens and lawns.', 'score': 0.72903776, 'raw_content': None}], 'response_time': 2.23}), AIMessage(content=\"Here's the latest news in a nutshell:\\n\\n**Politics**\\n\\n* Geert Wilders wins big in Dutch election, boosting far-right populists.\\n* Daniel Noboa is sworn in as Ecuador's president.\\n\\n**Business**\\n\\n* OpenAI brings back Sam Altman as CEO just days after his firing.\\n* To save the climate, the oil and gas sector must slash planet-warming operations, report says.\\n\\n**Science**\\n\\n* Peru lost more than half of its glacier surface in just over half a century, scientists say.\\n* Search is on for pipeline leak after as much as 1.1 million gallons of oil sullies Gulf of Mexico.\\n\\n**Sports**\\n\\n* Bland and Prescott help Cowboys to 13th straight home win over Commanders on Thanksgiving.\\n* Blackhawks' Taylor Hall is expected to miss the rest of the season with a right knee injury.\\n\\n**Entertainment**\\n\\n* Movie Review: Emerald Fennell chronicles a promising young man in audacious, shock-filled 'Saltburn'.\\n* Movie Review: Disney's musical fairy tale 'Wish' is beautiful, but lacking magic.\\n* Woman alleges Jamie Foxx sexually assaulted her at New York bar, actor says it ‘never happened’.\\n\\n**US News**\\n\\n* Residents of Kentucky town can return home after crews extinguish derailment fire.\\n* Officials begin clearing debris while 3 remain missing in Alaska landslide that left 3 dead.\\n\\nThese are just a few of the top stories making headlines right now.\", additional_kwargs={}, response_metadata={'model': 'llama3.2:3b', 'created_at': '2024-11-18T12:15:30.4496706Z', 'message': {'role': 'assistant', 'content': \"Here's the latest news in a nutshell:\\n\\n**Politics**\\n\\n* Geert Wilders wins big in Dutch election, boosting far-right populists.\\n* Daniel Noboa is sworn in as Ecuador's president.\\n\\n**Business**\\n\\n* OpenAI brings back Sam Altman as CEO just days after his firing.\\n* To save the climate, the oil and gas sector must slash planet-warming operations, report says.\\n\\n**Science**\\n\\n* Peru lost more than half of its glacier surface in just over half a century, scientists say.\\n* Search is on for pipeline leak after as much as 1.1 million gallons of oil sullies Gulf of Mexico.\\n\\n**Sports**\\n\\n* Bland and Prescott help Cowboys to 13th straight home win over Commanders on Thanksgiving.\\n* Blackhawks' Taylor Hall is expected to miss the rest of the season with a right knee injury.\\n\\n**Entertainment**\\n\\n* Movie Review: Emerald Fennell chronicles a promising young man in audacious, shock-filled 'Saltburn'.\\n* Movie Review: Disney's musical fairy tale 'Wish' is beautiful, but lacking magic.\\n* Woman alleges Jamie Foxx sexually assaulted her at New York bar, actor says it ‘never happened’.\\n\\n**US News**\\n\\n* Residents of Kentucky town can return home after crews extinguish derailment fire.\\n* Officials begin clearing debris while 3 remain missing in Alaska landslide that left 3 dead.\\n\\nThese are just a few of the top stories making headlines right now.\"}, 'done_reason': 'stop', 'done': True, 'total_duration': 5357442500, 'load_duration': 22205000, 'prompt_eval_count': 1592, 'prompt_eval_duration': 957279000, 'eval_count': 296, 'eval_duration': 4358186000}, id='run-7f5e82bd-687b-411f-96a1-9f5a696316ea-0', usage_metadata={'input_tokens': 1592, 'output_tokens': 296, 'total_tokens': 1888})]}\n",
      "{'messages': [HumanMessage(content='who won Sa vs India T20I series?', additional_kwargs={}, response_metadata={}, id='29af67da-d050-4b17-9091-fe6752c284a5'), AIMessage(content='', additional_kwargs={}, response_metadata={'model': 'llama3.2:3b', 'created_at': '2024-11-18T12:16:35.0000201Z', 'message': {'role': 'assistant', 'content': '', 'tool_calls': [{'function': {'name': 'tavily_search_results_json', 'arguments': {'query': 'Sa vs India T20I series winner'}}}]}, 'done_reason': 'stop', 'done': True, 'total_duration': 745603300, 'load_duration': 21208800, 'prompt_eval_count': 196, 'prompt_eval_duration': 320161000, 'eval_count': 28, 'eval_duration': 376652000}, id='run-7d07641e-57bb-41ff-95c6-c4fd01a4c729-0', tool_calls=[{'name': 'tavily_search_results_json', 'args': {'query': 'Sa vs India T20I series winner'}, 'id': '7995cb00-be08-4dbf-8cf6-77ae621475a9', 'type': 'tool_call'}], usage_metadata={'input_tokens': 196, 'output_tokens': 28, 'total_tokens': 224}), ToolMessage(content='[{\"url\": \"https://www.dnaindia.com/cricket/report-ind-vs-sa-4th-t20i-sanju-samson-tilak-varma-tons-guide-india-to-135-run-win-over-south-africa-clinch-series-3-1-3118233\", \"content\": \"IND vs SA, 4th T20I: Sanju Samson, Tilak Varma tons guide India to 135-run win over South Africa, clinch series 3-1. ... This victory secured a series win for India, with a final score of 3-1. Winning the toss, visiting captain Suryakumar Yadav chose to bat first against the Proteas. The highlight of India\\'s innings was the exceptional\"}, {\"url\": \"https://www.indiatoday.in/sports/cricket/story/cricket-south-africa-vs-india-sanju-samson-tilak-varma-series-win-record-johannnesburg-2634245-2024-11-16\", \"content\": \"SA vs IND, 4th T20I: Sanju Samson, Tilak power record-breaking India to series win - India Today NewsSportsCricketSamson, Tilak power record-breaking India to T20i series win in South Africa SA vs IND, 4th T20I: Sanju Samson, Tilak power record-breaking India to series win South Africa vs India, 4th T20I: Sanju Samson and Tilak Varma hit a hundred each as India posted 283 and hammered South Africa by 135 runs. India won the T20I series 3-1 in South Africa Tilak\\'s hundred came shortly after Sanju Samson got to his hundred in 51 balls, smashing his third three-figrue score in his last five innings in T20Is. Both batters combined to hit 19 of India\\'s record-breaking 23 sixes in Johannesburg on Friday.\"}]', name='tavily_search_results_json', id='60e1182b-5419-4a5b-87e6-0f5df7407c99', tool_call_id='7995cb00-be08-4dbf-8cf6-77ae621475a9', artifact={'query': 'Sa vs India T20I series winner', 'follow_up_questions': None, 'answer': None, 'images': [], 'results': [{'title': 'IND vs SA, 4th T20I: Sanju Samson, Tilak Varma tons guide India to 135 ...', 'url': 'https://www.dnaindia.com/cricket/report-ind-vs-sa-4th-t20i-sanju-samson-tilak-varma-tons-guide-india-to-135-run-win-over-south-africa-clinch-series-3-1-3118233', 'content': \"IND vs SA, 4th T20I: Sanju Samson, Tilak Varma tons guide India to 135-run win over South Africa, clinch series 3-1. ... This victory secured a series win for India, with a final score of 3-1. Winning the toss, visiting captain Suryakumar Yadav chose to bat first against the Proteas. The highlight of India's innings was the exceptional\", 'score': 0.9994536, 'raw_content': None}, {'title': 'SA vs IND, 4th T20I: Sanju Samson, Tilak power record-breaking India to ...', 'url': 'https://www.indiatoday.in/sports/cricket/story/cricket-south-africa-vs-india-sanju-samson-tilak-varma-series-win-record-johannnesburg-2634245-2024-11-16', 'content': \"SA vs IND, 4th T20I: Sanju Samson, Tilak power record-breaking India to series win - India Today NewsSportsCricketSamson, Tilak power record-breaking India to T20i series win in South Africa SA vs IND, 4th T20I: Sanju Samson, Tilak power record-breaking India to series win South Africa vs India, 4th T20I: Sanju Samson and Tilak Varma hit a hundred each as India posted 283 and hammered South Africa by 135 runs. India won the T20I series 3-1 in South Africa Tilak's hundred came shortly after Sanju Samson got to his hundred in 51 balls, smashing his third three-figrue score in his last five innings in T20Is. Both batters combined to hit 19 of India's record-breaking 23 sixes in Johannesburg on Friday.\", 'score': 0.99916065, 'raw_content': None}], 'response_time': 2.43}), AIMessage(content='India won the T20I series against South Africa, clinching it 3-1. The key players for India were Sanju Samson and Tilak Varma, who both scored hundreds and helped India post a record-breaking total of 283 runs. They then went on to hammer South Africa by 135 runs, securing a convincing victory in the series.', additional_kwargs={}, response_metadata={'model': 'llama3.2:3b', 'created_at': '2024-11-18T12:16:39.8251184Z', 'message': {'role': 'assistant', 'content': 'India won the T20I series against South Africa, clinching it 3-1. The key players for India were Sanju Samson and Tilak Varma, who both scored hundreds and helped India post a record-breaking total of 283 runs. They then went on to hammer South Africa by 135 runs, securing a convincing victory in the series.'}, 'done_reason': 'stop', 'done': True, 'total_duration': 1487425500, 'load_duration': 22658000, 'prompt_eval_count': 514, 'prompt_eval_duration': 385566000, 'eval_count': 74, 'eval_duration': 1072257000}, id='run-3d9d6e4c-80bc-481f-9977-e9c5eb34f9b6-0', usage_metadata={'input_tokens': 514, 'output_tokens': 74, 'total_tokens': 588})]}\n",
      "{'messages': [HumanMessage(content='what is my name?', additional_kwargs={}, response_metadata={}, id='b97ec9d9-8e13-4529-9264-2a54d2e2b49c'), AIMessage(content='', additional_kwargs={}, response_metadata={'model': 'llama3.2:3b', 'created_at': '2024-11-18T12:17:33.0908855Z', 'message': {'role': 'assistant', 'content': '', 'tool_calls': [{'function': {'name': 'tavily_search_results_json', 'arguments': {'query': 'my name'}}}]}, 'done_reason': 'stop', 'done': True, 'total_duration': 679055800, 'load_duration': 19523700, 'prompt_eval_count': 191, 'prompt_eval_duration': 359848000, 'eval_count': 22, 'eval_duration': 297593000}, id='run-0f1f3248-4668-4de7-967d-1b1f917fe206-0', tool_calls=[{'name': 'tavily_search_results_json', 'args': {'query': 'my name'}, 'id': 'cd36e6b0-6d9f-4a28-8bc6-6bce8fceab61', 'type': 'tool_call'}], usage_metadata={'input_tokens': 191, 'output_tokens': 22, 'total_tokens': 213}), ToolMessage(content='[{\"url\": \"https://www.justwatch.com/us/tv-show/my-name\", \"content\": \"My Name is 3632 on the JustWatch Daily Streaming Charts today. The TV show has moved down the charts by -398 places since yesterday. In the United States, it is currently more popular than Divided by Design but less popular than Duncanville. 3628.\"}, {\"url\": \"https://www.imdb.com/title/tt12940504/\", \"content\": \"My Name: With Han So-hee, Park Hee-soon, Kim Sang-ho, Lee Hak-joo. The story about a woman who joins an organized crime ring and infiltrates the police as an undercover agent in order to find out the truth about her father\\'s death.\"}]', name='tavily_search_results_json', id='251d112f-951e-4e44-945a-3e444343c5e7', tool_call_id='cd36e6b0-6d9f-4a28-8bc6-6bce8fceab61', artifact={'query': 'my name', 'follow_up_questions': None, 'answer': None, 'images': [], 'results': [{'title': 'My Name - watch tv show streaming online - JustWatch', 'url': 'https://www.justwatch.com/us/tv-show/my-name', 'content': 'My Name is 3632 on the JustWatch Daily Streaming Charts today. The TV show has moved down the charts by -398 places since yesterday. In the United States, it is currently more popular than Divided by Design but less popular than Duncanville. 3628.', 'score': 0.95846003, 'raw_content': None}, {'title': 'My Name (TV Series 2021) - IMDb', 'url': 'https://www.imdb.com/title/tt12940504/', 'content': \"My Name: With Han So-hee, Park Hee-soon, Kim Sang-ho, Lee Hak-joo. The story about a woman who joins an organized crime ring and infiltrates the police as an undercover agent in order to find out the truth about her father's death.\", 'score': 0.93306583, 'raw_content': None}], 'response_time': 2.05}), AIMessage(content='It appears that I couldn\\'t find any information on your personal name. However, I can suggest some alternatives to help you find the answer:\\n\\n* Check your identification documents or records to see if your name is listed.\\n* Contact a trusted friend or family member who may know your name.\\n* If you\\'re trying to search for your name online, try using specific keywords such as \"my name\" or \"what is my name?\" and see if any relevant results come up.\\n\\nUnfortunately, I couldn\\'t find any information on your personal name. If you could provide more context or clarify who you are, I\\'d be happy to try and assist you further.', additional_kwargs={}, response_metadata={'model': 'llama3.2:3b', 'created_at': '2024-11-18T12:17:38.147065Z', 'message': {'role': 'assistant', 'content': 'It appears that I couldn\\'t find any information on your personal name. However, I can suggest some alternatives to help you find the answer:\\n\\n* Check your identification documents or records to see if your name is listed.\\n* Contact a trusted friend or family member who may know your name.\\n* If you\\'re trying to search for your name online, try using specific keywords such as \"my name\" or \"what is my name?\" and see if any relevant results come up.\\n\\nUnfortunately, I couldn\\'t find any information on your personal name. If you could provide more context or clarify who you are, I\\'d be happy to try and assist you further.'}, 'done_reason': 'stop', 'done': True, 'total_duration': 2109094800, 'load_duration': 50945400, 'prompt_eval_count': 252, 'prompt_eval_duration': 250627000, 'eval_count': 132, 'eval_duration': 1797690000}, id='run-4c7542be-36a9-4524-b767-fe6606b0da87-0', usage_metadata={'input_tokens': 252, 'output_tokens': 132, 'total_tokens': 384})]}\n",
      "Goodbye!\n"
     ]
    }
   ],
   "source": [
    "def run_graph(user_input:str):\n",
    "    output = graph.invoke({\"messages\": [(\"user\", user_input)]})\n",
    "    print(output)\n",
    "\n",
    "while True:\n",
    "    user_input = input(\"User: \")\n",
    "    if user_input.lower() in [\"quit\", \"exit\", \"q\"]:\n",
    "        print(\"Goodbye!\")\n",
    "        break\n",
    "\n",
    "    # stream_graph_updates(user_input)\n",
    "    run_graph(user_input)\n"
   ]
  },
  {
   "cell_type": "markdown",
   "metadata": {},
   "source": [
    "### Part 3: Adding Memory to the Chatbot¶"
   ]
  },
  {
   "cell_type": "markdown",
   "metadata": {},
   "source": [
    "- LangGraph solves this problem through persistent checkpointing. If you provide a checkpointer when compiling the graph and a thread_id when calling your graph, LangGraph automatically saves the state after each step"
   ]
  },
  {
   "cell_type": "code",
   "execution_count": 20,
   "metadata": {},
   "outputs": [
    {
     "data": {
      "image/jpeg": "[encoded data removed]",
      "text/plain": [
       "<IPython.core.display.Image object>"
      ]
     },
     "metadata": {},
     "output_type": "display_data"
    }
   ],
   "source": [
    "from typing import Annotated\n",
    "\n",
    "from langchain_community.tools.tavily_search import TavilySearchResults\n",
    "from langchain_core.messages import BaseMessage\n",
    "from typing_extensions import TypedDict\n",
    "\n",
    "from langgraph.graph import StateGraph, START, END\n",
    "from langgraph.graph.message import add_messages\n",
    "from langgraph.prebuilt import ToolNode, tools_condition\n",
    "from langgraph.checkpoint.memory import MemorySaver\n",
    "\n",
    "\n",
    "class State(TypedDict):\n",
    "    messages: Annotated[list, add_messages]\n",
    "\n",
    "\n",
    "graph_builder = StateGraph(State)\n",
    "memory = MemorySaver()\n",
    "\n",
    "\n",
    "tool = TavilySearchResults(max_results=2)\n",
    "tools = [tool]\n",
    "llm = ChatOllama(model=\"llama3.2:3b\", base_url=\"http://localhost:11434\")\n",
    "llm_with_tools = llm.bind_tools(tools)\n",
    "\n",
    "\n",
    "def chatbot(state: State):\n",
    "    return {\"messages\": [llm_with_tools.invoke(state[\"messages\"])]}\n",
    "\n",
    "\n",
    "graph_builder.add_node(\"chatbot\", chatbot)\n",
    "\n",
    "tool_node = ToolNode(tools=[tool])\n",
    "graph_builder.add_node(\"tools\", tool_node)\n",
    "\n",
    "graph_builder.add_conditional_edges(\n",
    "    \"chatbot\",\n",
    "    tools_condition,\n",
    ")\n",
    "# Any time a tool is called, we return to the chatbot to decide the next step\n",
    "graph_builder.add_edge(\"tools\", \"chatbot\")\n",
    "graph_builder.add_edge(START, \"chatbot\")\n",
    "\n",
    "graph = graph_builder.compile(checkpointer=memory)\n",
    "\n",
    "display(Image(graph.get_graph().draw_mermaid_png()))\n"
   ]
  },
  {
   "cell_type": "code",
   "execution_count": 23,
   "metadata": {},
   "outputs": [
    {
     "name": "stdout",
     "output_type": "stream",
     "text": [
      "==================================\u001b[1m Ai Message \u001b[0m==================================\n",
      "\n",
      "Hello again Laxmi Kant Tiwari,\n",
      "\n",
      "It seems like my previous search results were not accurate. However, I have found some new information about you.\n",
      "\n",
      "You can be found on LinkedIn with the profile link: https://www.linkedin.com/in/laxmi-kant-tiwari-243379ba\n",
      "\n",
      "Additionally, you are currently an Associate Professor at Chandigarh University in India and have over 500 connections on LinkedIn. \n",
      "\n",
      "Would you like to know more about anything specific or is there something I can assist you with?\n",
      "None\n",
      "==================================\u001b[1m Ai Message \u001b[0m==================================\n",
      "\n",
      "Your name is Laxmi Kant Tiwari. I apologize for the earlier mistake where I had \"Laxmi kant Tiwari\" instead of the correct spelling. It seems like you are an Associate Professor at Chandigarh University and have experience in data science, team management, and business development. You can also be found on LinkedIn and Udemy with your profile links.\n",
      "None\n",
      "Goodbye!\n"
     ]
    }
   ],
   "source": [
    "config = {\"configurable\": {\"thread_id\": \"1\"}}\n",
    "\n",
    "def run_graph(user_input:str, config: dict):\n",
    "    output = graph.invoke({\"messages\": [(\"user\", user_input)]}, config=config)\n",
    "    print(output['messages'][-1].pretty_print())\n",
    "\n",
    "while True:\n",
    "    user_input = input(\"User: \")\n",
    "    if user_input.lower() in [\"quit\", \"exit\", \"q\"]:\n",
    "        print(\"Goodbye!\")\n",
    "        break\n",
    "\n",
    "    # stream_graph_updates(user_input)\n",
    "    run_graph(user_input, config=config)"
   ]
  },
  {
   "cell_type": "markdown",
   "metadata": {},
   "source": [
    "## Part 4: Human-in-the-loop"
   ]
  },
  {
   "cell_type": "code",
   "execution_count": null,
   "metadata": {},
   "outputs": [],
   "source": []
  },
  {
   "cell_type": "code",
   "execution_count": null,
   "metadata": {},
   "outputs": [],
   "source": []
  },
  {
   "cell_type": "code",
   "execution_count": null,
   "metadata": {},
   "outputs": [],
   "source": []
  },
  {
   "cell_type": "code",
   "execution_count": null,
   "metadata": {},
   "outputs": [],
   "source": []
  },
  {
   "cell_type": "code",
   "execution_count": null,
   "metadata": {},
   "outputs": [],
   "source": []
  },
  {
   "cell_type": "code",
   "execution_count": null,
   "metadata": {},
   "outputs": [],
   "source": []
  },
  {
   "cell_type": "code",
   "execution_count": null,
   "metadata": {},
   "outputs": [],
   "source": []
  },
  {
   "cell_type": "code",
   "execution_count": null,
   "metadata": {},
   "outputs": [],
   "source": []
  },
  {
   "cell_type": "code",
   "execution_count": null,
   "metadata": {},
   "outputs": [],
   "source": []
  }
 ],
 "metadata": {
  "kernelspec": {
   "display_name": "ml",
   "language": "python",
   "name": "python3"
  },
  "language_info": {
   "codemirror_mode": {
    "name": "ipython",
    "version": 3
   },
   "file_extension": ".py",
   "mimetype": "text/x-python",
   "name": "python",
   "nbconvert_exporter": "python",
   "pygments_lexer": "ipython3",
   "version": "3.12.4"
  }
 },
 "nbformat": 4,
 "nbformat_minor": 2
}
