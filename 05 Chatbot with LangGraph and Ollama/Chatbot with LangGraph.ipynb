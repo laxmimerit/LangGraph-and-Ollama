{
 "cells": [
  {
   "cell_type": "markdown",
   "metadata": {},
   "source": [
    "# Announcement-on-ML\n",
    "<a href='http://www.kgptalkie.com' target=\"_blank\"> <img src='https://github.com/laxmimerit/Important-Announcement-on-ML/raw/master/kgptalkie_strips.png'/></a>\n",
    "\n",
    "# ML Resources\n",
    "|  ML Course | Description |\n",
    "|:---|:---|\n",
    "| [**Deploy LLM App with Ollama and Langchain in Production**](https://www.udemy.com/course/ollama-and-langchain/?referralCode=7F4C0C7B8CF223BA9327) | Master Langchain v0.3, Private Chatbot, Deploy LLM App.  Ollama, LLAMA, LLAMA 3.2, FAISS, RAG, Deploy RAG, Gen AI, LLM|\n",
    "| [**Fine Tuning LLM with HuggingFace Transformers for NLP**](https://www.udemy.com/course/fine-tuning-llm-with-hugging-face-transformers/?referralCode=6DEB3BE17C2644422D8E) | Learn how to fine tune LLM with custom dataset. You will learn basics of transformers then fine tune LLM|\n",
    "| [**Data Visualization in Python Masterclass™: Beginners to Pro**](https://bit.ly/udemy95off_kgptalkie) |  Learn to build Machine Learning and Deep Learning models using Python and its libraries like Scikit-Learn, Keras, and TensorFlow. |\n",
    "| [**Python for Machine Learning: A Step-by-Step Guide**](https://bit.ly/ml-ds-project) | Learn to build Machine Learning and Deep Learning models using Python and its libraries like Scikit-Learn, Keras, and TensorFlow. |\n",
    "| [**Deep Learning for Beginners with Python**](https://bit.ly/dl-with-python) | Neural Networks, TensorFlow, ANN, CNN, RNN, LSTM, Transfer Learning and Much More. |\n",
    "| [**Python for Linear Regression in Machine Learning**](https://bit.ly/regression-python) | Learn to build Linear Regression models using Python and its libraries like Scikit-Learn. |\n",
    "| [**Introduction to Spacy 3 for Natural Language Processing**](https://bit.ly/spacy-intro) | Learn to build Natural Language Processing models using Python and its libraries like Spacy. |\n",
    "| [**Advanced Machine Learning and Deep Learning Projects**](https://bit.ly/kgptalkie_ml_projects) | Learn to build Advanced Machine Learning and Deep Learning models using Python and transformer models like BERT, GPT-2, and XLNet. |\n",
    "| [**Natural Language Processing in Python for Beginners**](https://bit.ly/intro_nlp) | Learn to build Natural Language Processing Projects using Spacy, NLTK, and Gensim, and transformer models like BERT, GPT-2, and XLNet. |\n",
    "| [**Deployment of Machine Learning Models in Production in Python**](https://bit.ly/bert_nlp) |  Learn to deploy Machine Learning and Deep Learning models using Python and its libraries like Flask, Streamlit, and NGINX. |\n",
    "| [**R 4.0 Programming for Data Science - Beginners to Pro**](https://bit.ly/r4-ml) | Learn to build Machine Learning and Deep Learning models using R and its libraries like caret, tidyverse, and keras. |\n"
   ]
  },
  {
   "cell_type": "markdown",
   "metadata": {},
   "source": [
    "## Chatbot with LangGraph - Baby Step Toward Agents"
   ]
  },
  {
   "cell_type": "code",
   "execution_count": 1,
   "metadata": {},
   "outputs": [
    {
     "data": {
      "text/plain": [
       "True"
      ]
     },
     "execution_count": 1,
     "metadata": {},
     "output_type": "execute_result"
    }
   ],
   "source": [
    "from dotenv import load_dotenv\n",
    "import os\n",
    "\n",
    "load_dotenv('../.env')"
   ]
  },
  {
   "cell_type": "code",
   "execution_count": 2,
   "metadata": {},
   "outputs": [],
   "source": [
    "from typing import Annotated, TypedDict \n",
    "from langgraph.graph import  StateGraph, START, END\n",
    "\n",
    "from langgraph.graph.message import add_messages \n",
    "\n",
    "from langchain_ollama import ChatOllama\n",
    "\n",
    "llm = ChatOllama(model=\"llama3.2:3b\", base_url = \"http://localhost:11434\")"
   ]
  },
  {
   "cell_type": "code",
   "execution_count": 3,
   "metadata": {},
   "outputs": [
    {
     "data": {
      "text/plain": [
       "AIMessage(content='How can I help you today?', additional_kwargs={}, response_metadata={'model': 'llama3.2:3b', 'created_at': '2024-11-25T13:23:13.5693718Z', 'message': {'role': 'assistant', 'content': ''}, 'done_reason': 'stop', 'done': True, 'total_duration': 2407507100, 'load_duration': 1972022200, 'prompt_eval_count': 26, 'prompt_eval_duration': 127878000, 'eval_count': 8, 'eval_duration': 300009000}, id='run-21ba7dae-856e-46f7-90de-2ad48af83972-0', usage_metadata={'input_tokens': 26, 'output_tokens': 8, 'total_tokens': 34})"
      ]
     },
     "execution_count": 3,
     "metadata": {},
     "output_type": "execute_result"
    }
   ],
   "source": [
    "llm.invoke(\"Hi\")"
   ]
  },
  {
   "cell_type": "code",
   "execution_count": 4,
   "metadata": {},
   "outputs": [],
   "source": [
    "class State(TypedDict):\n",
    "    # {\"messages\": [\"your message\"]}\n",
    "    messages: Annotated[list, add_messages]\n",
    "\n",
    "\n",
    "def chatbot(state: State):\n",
    "    response = llm.invoke(state[\"messages\"])\n",
    "    return {\"messages\": [response]}\n",
    "\n",
    "\n",
    "graph_builder = StateGraph(State)\n",
    "graph_builder.add_node(\"chatbot\", chatbot)\n",
    "\n",
    "graph_builder.add_edge(START, \"chatbot\")\n",
    "\n",
    "graph_builder.add_edge(\"chatbot\", END)\n",
    "\n",
    "graph = graph_builder.compile()\n"
   ]
  },
  {
   "cell_type": "code",
   "execution_count": 5,
   "metadata": {},
   "outputs": [
    {
     "data": {
      "image/jpeg": "[encoded data removed]",
      "text/plain": [
       "<IPython.core.display.Image object>"
      ]
     },
     "metadata": {},
     "output_type": "display_data"
    }
   ],
   "source": [
    "from IPython.display import Image, display\n",
    "\n",
    "\n",
    "display(Image(graph.get_graph().draw_mermaid_png()))"
   ]
  },
  {
   "cell_type": "code",
   "execution_count": 6,
   "metadata": {},
   "outputs": [
    {
     "data": {
      "text/plain": [
       "{'messages': [HumanMessage(content='Hi', additional_kwargs={}, response_metadata={}, id='ee2d9fa4-5b9c-4c22-a70d-b507175becc3'),\n",
       "  HumanMessage(content='myself is laxmi kant', additional_kwargs={}, response_metadata={}, id='ba7c539b-3b41-4ffb-a007-dd085da8e9a0'),\n",
       "  AIMessage(content=\"Namaste Laxmi Kant! It's nice to meet you. Is there something I can help you with or would you like to chat?\", additional_kwargs={}, response_metadata={'model': 'llama3.2:3b', 'created_at': '2024-11-25T13:23:15.9922466Z', 'message': {'role': 'assistant', 'content': ''}, 'done_reason': 'stop', 'done': True, 'total_duration': 1159074100, 'load_duration': 34432100, 'prompt_eval_count': 34, 'prompt_eval_duration': 50262000, 'eval_count': 30, 'eval_duration': 1071243000}, id='run-ada13ef5-732d-4801-a44d-d33bd4a25d78-0', usage_metadata={'input_tokens': 34, 'output_tokens': 30, 'total_tokens': 64})]}"
      ]
     },
     "execution_count": 6,
     "metadata": {},
     "output_type": "execute_result"
    }
   ],
   "source": [
    "graph.invoke({\"messages\": [\"Hi\", \"myself is laxmi kant\"]})"
   ]
  },
  {
   "cell_type": "code",
   "execution_count": null,
   "metadata": {},
   "outputs": [
    {
     "data": {
      "text/plain": [
       "{'messages': [HumanMessage(content='Hello', additional_kwargs={}, response_metadata={}, id='05a9e5cf-1ff2-4e21-ac51-4dbdc9276eae'),\n",
       "  AIMessage(content='How can I assist you today?', additional_kwargs={}, response_metadata={'model': 'llama3.2:3b', 'created_at': '2024-11-25T11:23:13.7892884Z', 'message': {'role': 'assistant', 'content': ''}, 'done_reason': 'stop', 'done': True, 'total_duration': 624961900, 'load_duration': 21625800, 'prompt_eval_count': 26, 'prompt_eval_duration': 312347000, 'eval_count': 8, 'eval_duration': 289096000}, id='run-83598e1e-ddb2-4eab-8860-bb50ea854de6-0', usage_metadata={'input_tokens': 26, 'output_tokens': 8, 'total_tokens': 34})]}"
      ]
     },
     "execution_count": 7,
     "metadata": {},
     "output_type": "execute_result"
    }
   ],
   "source": [
    "while True:\n",
    "    user_input = input(\"You: \")\n",
    "    if user_input in ['q', 'quit', 'exit']:\n",
    "        print(\"Bye!\")\n",
    "        break\n",
    "\n",
    "    response = graph.invoke({\"messages\": [user_input]})\n",
    "    print(\"Assistant:\", response[\"messages\"][-1].content)"
   ]
  },
  {
   "cell_type": "markdown",
   "metadata": {},
   "source": [
    "### Enhancing the Chatbot with Tools - Making it More Like an Agent"
   ]
  },
  {
   "cell_type": "code",
   "execution_count": 25,
   "metadata": {},
   "outputs": [],
   "source": [
    "from langchain_community.tools.tavily_search import TavilySearchResults\n",
    "from langgraph.prebuilt import ToolNode, tools_condition\n",
    "from langchain_core.messages import HumanMessage, SystemMessage\n",
    "\n",
    "from langchain_core.tools import tool\n",
    "\n",
    "llm = ChatOllama(model=\"llama3.2:3b\", base_url=\"http://localhost:11434\")"
   ]
  },
  {
   "cell_type": "code",
   "execution_count": 31,
   "metadata": {},
   "outputs": [
    {
     "data": {
      "text/plain": [
       "[StructuredTool(name='internet_search', description='Search the web for realtime and latest information.\\nfor examples, news, stock market, weather updates etc.\\n\\nArgs:\\nquery: The search query', args_schema=<class 'langchain_core.utils.pydantic.internet_search'>, func=<function internet_search at 0x000001C7A0110860>),\n",
       " StructuredTool(name='llm_search', description='Use the LLM model for general and basic information.', args_schema=<class 'langchain_core.utils.pydantic.llm_search'>, func=<function llm_search at 0x000001C7A0111620>)]"
      ]
     },
     "execution_count": 31,
     "metadata": {},
     "output_type": "execute_result"
    }
   ],
   "source": [
    "@tool\n",
    "def internet_search(query):\n",
    "    \"\"\"\n",
    "    Search the web for realtime and latest information.\n",
    "    for examples, news, stock market, weather updates etc.\n",
    "    \n",
    "    Args:\n",
    "    query: The search query\n",
    "    \"\"\"\n",
    "    \n",
    "    search = TavilySearchResults(\n",
    "        max_results=3,\n",
    "        search_depth=\"advanced\",\n",
    "        include_answer=True,\n",
    "        include_raw_content=True,\n",
    "    )\n",
    "    response = search.invoke(query)\n",
    "    return response\n",
    "\n",
    "@tool\n",
    "def llm_search(query):\n",
    "    \"\"\"\n",
    "    Use the LLM model for general and basic information.\n",
    "    \"\"\"\n",
    "    message = HumanMessage(query)\n",
    "    response = llm.invoke(message)\n",
    "    return response\n",
    "\n",
    "tools = [internet_search, llm_search]\n",
    "tools"
   ]
  },
  {
   "cell_type": "code",
   "execution_count": 32,
   "metadata": {},
   "outputs": [
    {
     "data": {
      "image/jpeg": "[encoded data removed]",
      "text/plain": [
       "<IPython.core.display.Image object>"
      ]
     },
     "metadata": {},
     "output_type": "display_data"
    }
   ],
   "source": [
    "graph_builder = StateGraph(State)\n",
    "\n",
    "llm_with_tools = llm.bind_tools(tools)\n",
    "\n",
    "\n",
    "def chatbot(state: State):\n",
    "    return {\"messages\": [llm_with_tools.invoke(state[\"messages\"])]}\n",
    "\n",
    "\n",
    "graph_builder.add_node(\"chatbot\", chatbot)\n",
    "\n",
    "tool_node = ToolNode(tools=tools)\n",
    "graph_builder.add_node(\"tools\", tool_node)\n",
    "\n",
    "graph_builder.add_conditional_edges(\n",
    "    \"chatbot\",\n",
    "    tools_condition,\n",
    ")\n",
    "# Any time a tool is called, we return to the chatbot to decide the next step\n",
    "graph_builder.add_edge(\"tools\", \"chatbot\")\n",
    "graph_builder.set_entry_point(\"chatbot\")\n",
    "graph = graph_builder.compile()\n",
    "\n",
    "\n",
    "display(Image(graph.get_graph().draw_mermaid_png()))\n"
   ]
  },
  {
   "cell_type": "code",
   "execution_count": 33,
   "metadata": {},
   "outputs": [
    {
     "name": "stdout",
     "output_type": "stream",
     "text": [
      "{'messages': [HumanMessage(content='tell me 3 facts about the earth', additional_kwargs={}, response_metadata={}, id='85ce5bd0-0322-457f-b71d-145096feac5a'), AIMessage(content='', additional_kwargs={}, response_metadata={'model': 'llama3.2:3b', 'created_at': '2024-11-25T13:53:14.0683393Z', 'message': {'role': 'assistant', 'content': '', 'tool_calls': [{'function': {'name': 'llm_search', 'arguments': {'query': 'facts about the Earth'}}}]}, 'done_reason': 'stop', 'done': True, 'total_duration': 573812600, 'load_duration': 20122100, 'prompt_eval_count': 231, 'prompt_eval_duration': 264143000, 'eval_count': 21, 'eval_duration': 288472000}, id='run-8d783d26-ac9a-474f-833b-9a11abc86028-0', tool_calls=[{'name': 'llm_search', 'args': {'query': 'facts about the Earth'}, 'id': 'ab1813b9-026c-4aae-9314-5b599e9eed64', 'type': 'tool_call'}], usage_metadata={'input_tokens': 231, 'output_tokens': 21, 'total_tokens': 252}), ToolMessage(content='Error: ValueError(\"Invalid input type <class \\'langchain_core.messages.human.HumanMessage\\'>. Must be a PromptValue, str, or list of BaseMessages.\")\\n Please fix your mistakes.', name='llm_search', id='b3c111e4-ca8b-4cfc-a6ee-ca9be1b2ea84', tool_call_id='ab1813b9-026c-4aae-9314-5b599e9eed64', status='error'), AIMessage(content=\"I'll provide three facts about the Earth:\\n\\n1. The Earth is the fifth-largest planet in our solar system, with a diameter of approximately 12,742 kilometers (7,918 miles).\\n2. The Earth is divided into several continents, including Africa, Antarctica, Asia, Australia, Europe, North America, and South America.\\n3. The Earth's atmosphere is composed of 78% nitrogen, 21% oxygen, and 1% other gases, which helps to support life on our planet.\\n\\nLet me know if you'd like more information!\", additional_kwargs={}, response_metadata={'model': 'llama3.2:3b', 'created_at': '2024-11-25T13:53:15.7951654Z', 'message': {'role': 'assistant', 'content': \"I'll provide three facts about the Earth:\\n\\n1. The Earth is the fifth-largest planet in our solar system, with a diameter of approximately 12,742 kilometers (7,918 miles).\\n2. The Earth is divided into several continents, including Africa, Antarctica, Asia, Australia, Europe, North America, and South America.\\n3. The Earth's atmosphere is composed of 78% nitrogen, 21% oxygen, and 1% other gases, which helps to support life on our planet.\\n\\nLet me know if you'd like more information!\"}, 'done_reason': 'stop', 'done': True, 'total_duration': 1718587800, 'load_duration': 18904800, 'prompt_eval_count': 135, 'prompt_eval_duration': 44293000, 'eval_count': 113, 'eval_duration': 1644232000}, id='run-7f9eaebf-ef4b-4eca-956f-d2b3f2a7fb01-0', usage_metadata={'input_tokens': 135, 'output_tokens': 113, 'total_tokens': 248})]}\n",
      "{'messages': [HumanMessage(content=\"what is today's latest stock market news?\", additional_kwargs={}, response_metadata={}, id='7090f94b-d939-4c00-8fb5-130a162e5230'), AIMessage(content='', additional_kwargs={}, response_metadata={'model': 'llama3.2:3b', 'created_at': '2024-11-25T13:53:49.9722233Z', 'message': {'role': 'assistant', 'content': '', 'tool_calls': [{'function': {'name': 'internet_search', 'arguments': {'query': \"today's latest stock market news\"}}}]}, 'done_reason': 'stop', 'done': True, 'total_duration': 729726600, 'load_duration': 27824300, 'prompt_eval_count': 232, 'prompt_eval_duration': 379607000, 'eval_count': 22, 'eval_duration': 320434000}, id='run-9e20177f-69c7-4dbc-a3c9-2c8092b187d7-0', tool_calls=[{'name': 'internet_search', 'args': {'query': \"today's latest stock market news\"}, 'id': '24c3a2bd-3deb-47d1-9c3f-2c060e2c163a', 'type': 'tool_call'}], usage_metadata={'input_tokens': 232, 'output_tokens': 22, 'total_tokens': 254}), ToolMessage(content='[{\"url\": \"https://finance.yahoo.com/topic/stock-market-news/\", \"content\": \"Stock market today: Dow closes at record, S&P 500, Nasdaq rise as Wall Street notches strong weekly gains Stocks are retreating but still on track to end a Nvidia-dominated week higher. Yahoo\"}, {\"url\": \"https://finance.yahoo.com/news/live/stock-market-today-dow-closes-at-record-sp-500-nasdaq-rise-as-wall-street-notches-strong-weekly-gains-210023486.html\", \"content\": \"Stock market today: Dow closes at record, S&P 500, Nasdaq rise as Wall Street notches strong weekly gains Stock market today: Dow closes at record, S&P 500, Nasdaq rise as Wall Street notches strong weekly gains US stocks closed near session highs on Friday as investors surveyed President-elect Donald Trump\\'s efforts to build his team and bitcoin\\'s (BTC-USD) bid to reach a key milestone. The \\'Magnificent Seven\\' stocks were mixed on Friday, with Nvidia (NVDA) shares dipping more than 3% while Tesla (TSLA) shares popped almost 4% on Friday, helping lift the Consumer Discretionary (XLY) sector.\"}, {\"url\": \"https://www.reuters.com/markets/stocks/\", \"content\": \"Find the latest stock market news from every corner of the globe at Reuters.com, your online source for breaking international market and finance news\"}]', name='internet_search', id='9b3f9240-31c9-494c-984e-79bf9c65191e', tool_call_id='24c3a2bd-3deb-47d1-9c3f-2c060e2c163a'), AIMessage(content=\"Here's a formatted answer to the original user question:\\n\\n**Latest Stock Market News**\\n\\nThe stock market closed at a record high today, with the Dow Jones Industrial Average rising as Wall Street notched strong weekly gains. The S&P 500 and Nasdaq also rose, driven by investors' optimism about President-elect Donald Trump's efforts to build his team and bitcoin's bid to reach a key milestone.\\n\\nSome notable stocks had mixed performances on Friday. Nvidia shares dipped over 3%, while Tesla shares popped almost 4% and helped lift the Consumer Discretionary sector. Overall, the market is ending a week dominated by tech stocks like Nvidia, with investors looking ahead to the latest developments in Washington and other areas of focus.\\n\\nFor the latest news and updates on the stock market, please visit reputable sources such as Yahoo Finance or Reuters.\", additional_kwargs={}, response_metadata={'model': 'llama3.2:3b', 'created_at': '2024-11-25T13:53:58.7861415Z', 'message': {'role': 'assistant', 'content': \"Here's a formatted answer to the original user question:\\n\\n**Latest Stock Market News**\\n\\nThe stock market closed at a record high today, with the Dow Jones Industrial Average rising as Wall Street notched strong weekly gains. The S&P 500 and Nasdaq also rose, driven by investors' optimism about President-elect Donald Trump's efforts to build his team and bitcoin's bid to reach a key milestone.\\n\\nSome notable stocks had mixed performances on Friday. Nvidia shares dipped over 3%, while Tesla shares popped almost 4% and helped lift the Consumer Discretionary sector. Overall, the market is ending a week dominated by tech stocks like Nvidia, with investors looking ahead to the latest developments in Washington and other areas of focus.\\n\\nFor the latest news and updates on the stock market, please visit reputable sources such as Yahoo Finance or Reuters.\"}, 'done_reason': 'stop', 'done': True, 'total_duration': 3044452400, 'load_duration': 23094400, 'prompt_eval_count': 398, 'prompt_eval_duration': 405690000, 'eval_count': 168, 'eval_duration': 2608978000}, id='run-eba69b6c-34d3-4270-b2a6-680ac1450ef0-0', usage_metadata={'input_tokens': 398, 'output_tokens': 168, 'total_tokens': 566})]}\n",
      "Goodbye!\n"
     ]
    }
   ],
   "source": [
    "while True:\n",
    "    user_input = input(\"User: \")\n",
    "    if user_input.lower() in [\"quit\", \"exit\", \"q\"]:\n",
    "        print(\"Goodbye!\")\n",
    "        break\n",
    "\n",
    "    output = graph.invoke({\"messages\": [(\"user\", user_input)]})\n",
    "    print(output)\n"
   ]
  },
  {
   "cell_type": "markdown",
   "metadata": {},
   "source": [
    "### Adding Memory to the Chatbot"
   ]
  },
  {
   "cell_type": "markdown",
   "metadata": {},
   "source": [
    "- LangGraph solves this problem through persistent checkpointing. If you provide a checkpointer when compiling the graph and a thread_id when calling your graph, LangGraph automatically saves the state after each step"
   ]
  },
  {
   "cell_type": "code",
   "execution_count": 18,
   "metadata": {},
   "outputs": [
    {
     "data": {
      "image/jpeg": "[encoded data removed]",
      "text/plain": [
       "<IPython.core.display.Image object>"
      ]
     },
     "metadata": {},
     "output_type": "display_data"
    }
   ],
   "source": [
    "from langgraph.checkpoint.memory import MemorySaver\n",
    "\n",
    "\n",
    "graph_builder = StateGraph(State)\n",
    "\n",
    "llm_with_tools = llm.bind_tools(tools)\n",
    "\n",
    "\n",
    "def chatbot(state: State):\n",
    "    return {\"messages\": [llm_with_tools.invoke(state[\"messages\"])]}\n",
    "\n",
    "\n",
    "graph_builder.add_node(\"chatbot\", chatbot)\n",
    "\n",
    "tool_node = ToolNode(tools=tools)\n",
    "graph_builder.add_node(\"tools\", tool_node)\n",
    "\n",
    "graph_builder.add_conditional_edges(\n",
    "    \"chatbot\",\n",
    "    tools_condition,\n",
    ")\n",
    "# Any time a tool is called, we return to the chatbot to decide the next step\n",
    "graph_builder.add_edge(\"tools\", \"chatbot\")\n",
    "graph_builder.set_entry_point(\"chatbot\")\n",
    "\n",
    "\n",
    "memory = MemorySaver()\n",
    "graph = graph_builder.compile(checkpointer=memory)\n",
    "\n",
    "\n",
    "display(Image(graph.get_graph().draw_mermaid_png()))\n"
   ]
  },
  {
   "cell_type": "code",
   "execution_count": 19,
   "metadata": {},
   "outputs": [
    {
     "name": "stdout",
     "output_type": "stream",
     "text": [
      "==================================\u001b[1m Ai Message \u001b[0m==================================\n",
      "\n",
      "I'll try again with the correct format.\n",
      "\n",
      "Here are 3 simple facts about the Earth:\n",
      "\n",
      "1. The Earth is the third planet from the Sun in our solar system.\n",
      "2. The Earth's surface covers approximately 71% of its volume, with the remaining 29% consisting of oceans, lakes, and rivers.\n",
      "3. The Earth's diameter is approximately 12,742 kilometers (7,918 miles), making it the fifth-largest planet in our solar system.\n",
      "\n",
      "Is there anything else I can help you with?\n",
      "==================================\u001b[1m Ai Message \u001b[0m==================================\n",
      "\n",
      "I'll try again with a correct format.\n",
      "\n",
      "Here are 3 simple facts about the Sun:\n",
      "\n",
      "1. The Sun is a star and the center of our solar system.\n",
      "2. The Sun makes up about 99.8% of the mass of our solar system.\n",
      "3. The Sun's surface temperature is approximately 5,500 degrees Celsius (9,932 degrees Fahrenheit), while its core temperature is around 15,000,000 degrees Celsius (27,000,000 degrees Fahrenheit).\n",
      "\n",
      "Is there anything else I can help you with?\n",
      "Goodbye!\n"
     ]
    }
   ],
   "source": [
    "config = {\"configurable\": {\"thread_id\": \"1\"}}\n",
    "\n",
    "while True:\n",
    "    user_input = input()\n",
    "    if user_input.lower() in [\"quit\", \"exit\", \"q\"]:\n",
    "        print(\"Goodbye!\")\n",
    "        break\n",
    "\n",
    "    output = graph.invoke({\"messages\": [(\"user\", user_input)]}, config=config)\n",
    "    output['messages'][-1].pretty_print()"
   ]
  },
  {
   "cell_type": "code",
   "execution_count": null,
   "metadata": {},
   "outputs": [],
   "source": []
  }
 ],
 "metadata": {
  "kernelspec": {
   "display_name": "ml",
   "language": "python",
   "name": "python3"
  },
  "language_info": {
   "codemirror_mode": {
    "name": "ipython",
    "version": 3
   },
   "file_extension": ".py",
   "mimetype": "text/x-python",
   "name": "python",
   "nbconvert_exporter": "python",
   "pygments_lexer": "ipython3",
   "version": "3.12.4"
  }
 },
 "nbformat": 4,
 "nbformat_minor": 2
}
